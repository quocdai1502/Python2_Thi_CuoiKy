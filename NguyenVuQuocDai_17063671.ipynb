{
  "nbformat": 4,
  "nbformat_minor": 0,
  "metadata": {
    "colab": {
      "name": "NguyenVuQuocDai_17063671.ipynb",
      "provenance": [],
      "collapsed_sections": []
    },
    "kernelspec": {
      "name": "python3",
      "display_name": "Python 3"
    }
  },
  "cells": [
    {
      "cell_type": "markdown",
      "metadata": {
        "id": "4hAwduWTy3OV"
      },
      "source": [
        "Môn học: Lập trình phân tích dữ liệu 2\r\n",
        "\r\n",
        "*   Họ và tên: Nguyễn Vũ Quốc Đại\r\n",
        "*   MSSV: 17063671\r\n"
      ]
    },
    {
      "cell_type": "code",
      "metadata": {
        "id": "J2Fs_YeVzK7L"
      },
      "source": [
        "import numpy as np\r\n",
        "import pandas as pd\r\n",
        "import matplotlib as plt\r\n",
        "import seaborn as sns"
      ],
      "execution_count": null,
      "outputs": []
    },
    {
      "cell_type": "markdown",
      "metadata": {
        "id": "ysqP1rgVVb0B"
      },
      "source": [
        "Khai báo các hàm cần thiết"
      ]
    },
    {
      "cell_type": "code",
      "metadata": {
        "id": "E4gSPwryz3k7"
      },
      "source": [
        "\r\n",
        "df=pd.ExcelFile('/content/KQThiLyThuyet-26.12.2020_ca2.xls')"
      ],
      "execution_count": null,
      "outputs": []
    },
    {
      "cell_type": "markdown",
      "metadata": {
        "id": "nQhCCykHV_LL"
      },
      "source": [
        "Đọc file dữ liệu excel"
      ]
    },
    {
      "cell_type": "code",
      "metadata": {
        "id": "kPvlsAr41xer"
      },
      "source": [
        "\r\n",
        "result=df.parse('Sheet1')"
      ],
      "execution_count": null,
      "outputs": []
    },
    {
      "cell_type": "markdown",
      "metadata": {
        "id": "qvFqTbH8WMqW"
      },
      "source": [
        "Xem dữ liệu bảng Sheet1"
      ]
    },
    {
      "cell_type": "code",
      "metadata": {
        "colab": {
          "base_uri": "https://localhost:8080/"
        },
        "id": "T9_CfU6F2ywK",
        "outputId": "3f8311ad-5774-4ac5-bb6e-3eb1599e58ab"
      },
      "source": [
        "\r\n",
        "result.info()"
      ],
      "execution_count": null,
      "outputs": [
        {
          "output_type": "stream",
          "text": [
            "<class 'pandas.core.frame.DataFrame'>\n",
            "RangeIndex: 64 entries, 0 to 63\n",
            "Data columns (total 8 columns):\n",
            " #   Column     Non-Null Count  Dtype  \n",
            "---  ------     --------------  -----  \n",
            " 0   STT        64 non-null     int64  \n",
            " 1   Mã SV      64 non-null     int64  \n",
            " 2   Họ đệm     64 non-null     object \n",
            " 3   Tên        64 non-null     object \n",
            " 4   Giới tính  64 non-null     object \n",
            " 5   Ngày sinh  60 non-null     object \n",
            " 6   Điểm       64 non-null     float64\n",
            " 7   Điểm.1     64 non-null     float64\n",
            "dtypes: float64(2), int64(2), object(4)\n",
            "memory usage: 4.1+ KB\n"
          ],
          "name": "stdout"
        }
      ]
    },
    {
      "cell_type": "markdown",
      "metadata": {
        "id": "qDtOivAiWqjl"
      },
      "source": [
        "Dùng hàm info() để xem thông tin bảng dữ liệu\r\n",
        "\r\n",
        "1.   Bảng có 8 cột\r\n",
        "2.   Có 64 sinh viên\r\n",
        "\r\n"
      ]
    },
    {
      "cell_type": "code",
      "metadata": {
        "colab": {
          "base_uri": "https://localhost:8080/",
          "height": 297
        },
        "id": "hHZzaX9M5jow",
        "outputId": "24d11ea9-b100-4022-a035-857846de39ba"
      },
      "source": [
        "result.describe(include=['float64'])"
      ],
      "execution_count": null,
      "outputs": [
        {
          "output_type": "execute_result",
          "data": {
            "text/html": [
              "<div>\n",
              "<style scoped>\n",
              "    .dataframe tbody tr th:only-of-type {\n",
              "        vertical-align: middle;\n",
              "    }\n",
              "\n",
              "    .dataframe tbody tr th {\n",
              "        vertical-align: top;\n",
              "    }\n",
              "\n",
              "    .dataframe thead th {\n",
              "        text-align: right;\n",
              "    }\n",
              "</style>\n",
              "<table border=\"1\" class=\"dataframe\">\n",
              "  <thead>\n",
              "    <tr style=\"text-align: right;\">\n",
              "      <th></th>\n",
              "      <th>Điểm</th>\n",
              "      <th>Điểm.1</th>\n",
              "    </tr>\n",
              "  </thead>\n",
              "  <tbody>\n",
              "    <tr>\n",
              "      <th>count</th>\n",
              "      <td>64.000000</td>\n",
              "      <td>64.000000</td>\n",
              "    </tr>\n",
              "    <tr>\n",
              "      <th>mean</th>\n",
              "      <td>5.315625</td>\n",
              "      <td>5.421875</td>\n",
              "    </tr>\n",
              "    <tr>\n",
              "      <th>std</th>\n",
              "      <td>1.205703</td>\n",
              "      <td>1.225453</td>\n",
              "    </tr>\n",
              "    <tr>\n",
              "      <th>min</th>\n",
              "      <td>0.000000</td>\n",
              "      <td>0.000000</td>\n",
              "    </tr>\n",
              "    <tr>\n",
              "      <th>25%</th>\n",
              "      <td>4.725000</td>\n",
              "      <td>4.875000</td>\n",
              "    </tr>\n",
              "    <tr>\n",
              "      <th>50%</th>\n",
              "      <td>5.400000</td>\n",
              "      <td>5.500000</td>\n",
              "    </tr>\n",
              "    <tr>\n",
              "      <th>75%</th>\n",
              "      <td>6.300000</td>\n",
              "      <td>6.500000</td>\n",
              "    </tr>\n",
              "    <tr>\n",
              "      <th>max</th>\n",
              "      <td>7.000000</td>\n",
              "      <td>7.000000</td>\n",
              "    </tr>\n",
              "  </tbody>\n",
              "</table>\n",
              "</div>"
            ],
            "text/plain": [
              "            Điểm     Điểm.1\n",
              "count  64.000000  64.000000\n",
              "mean    5.315625   5.421875\n",
              "std     1.205703   1.225453\n",
              "min     0.000000   0.000000\n",
              "25%     4.725000   4.875000\n",
              "50%     5.400000   5.500000\n",
              "75%     6.300000   6.500000\n",
              "max     7.000000   7.000000"
            ]
          },
          "metadata": {
            "tags": []
          },
          "execution_count": 15
        }
      ]
    },
    {
      "cell_type": "markdown",
      "metadata": {
        "id": "J3sYbMDfWmgV"
      },
      "source": [
        "Dùng describe để xem các đại lượng mô tả của bảng dữ liệu:\r\n",
        "\r\n",
        "1.   Có 64 sinh viên\r\n",
        "2.   Giá trị trung bình là: 5,3\r\n",
        "3.   Độ lệch chuẩn là: 1,2\r\n",
        "4.   Giá trị nhỏ nhất là: 0\r\n",
        "5.   Các giá trị tứ phân vị\r\n",
        "6.   Giá trị lớn nhất là 7\r\n",
        "\r\n",
        "\r\n",
        "\r\n"
      ]
    },
    {
      "cell_type": "code",
      "metadata": {
        "colab": {
          "base_uri": "https://localhost:8080/"
        },
        "id": "pEaLuxk921_y",
        "outputId": "6aea9571-8c71-46d7-8cdf-318b6309fe9e"
      },
      "source": [
        "\r\n",
        "result.isnull().sum()\r\n"
      ],
      "execution_count": null,
      "outputs": [
        {
          "output_type": "execute_result",
          "data": {
            "text/plain": [
              "STT          0\n",
              "Mã SV        0\n",
              "Họ đệm       0\n",
              "Tên          0\n",
              "Giới tính    0\n",
              "Ngày sinh    4\n",
              "Điểm         0\n",
              "Điểm.1       0\n",
              "dtype: int64"
            ]
          },
          "metadata": {
            "tags": []
          },
          "execution_count": 11
        }
      ]
    },
    {
      "cell_type": "markdown",
      "metadata": {
        "id": "1JtO7dHMZ7A3"
      },
      "source": [
        "Dùng result.isnull().sum() để kiểm tra xem trong bảng dữ liệu có bao nhiêu giá trị bị thiếu. Ta thấy cột giới tính bị thiếu 4 giá trị"
      ]
    },
    {
      "cell_type": "code",
      "metadata": {
        "colab": {
          "base_uri": "https://localhost:8080/"
        },
        "id": "VWXEsZ8z3H3p",
        "outputId": "9e2f3d12-f126-4be5-e032-0e5dba83f133"
      },
      "source": [
        "result['Ngày sinh'].describe()"
      ],
      "execution_count": null,
      "outputs": [
        {
          "output_type": "execute_result",
          "data": {
            "text/plain": [
              "count                      60\n",
              "unique                     56\n",
              "top       1999-05-07 00:00:00\n",
              "freq                        2\n",
              "Name: Ngày sinh, dtype: object"
            ]
          },
          "metadata": {
            "tags": []
          },
          "execution_count": 12
        }
      ]
    },
    {
      "cell_type": "code",
      "metadata": {
        "colab": {
          "base_uri": "https://localhost:8080/"
        },
        "id": "XyQDYc7G4enq",
        "outputId": "988c7131-2e31-4947-c582-1343e6b5a3cc"
      },
      "source": [
        "result['Ngày sinh'].value_counts().idxmax()"
      ],
      "execution_count": null,
      "outputs": [
        {
          "output_type": "execute_result",
          "data": {
            "text/plain": [
              "datetime.datetime(1999, 5, 7, 0, 0)"
            ]
          },
          "metadata": {
            "tags": []
          },
          "execution_count": 14
        }
      ]
    },
    {
      "cell_type": "markdown",
      "metadata": {
        "id": "ZggwLUOtaaaP"
      },
      "source": [
        "Ta tiến hành xử lý các giá trị bị thiếu:\r\n",
        "\r\n",
        "1.   Bước đầu là đếm trong cột Ngày sinh có giá trị nào xuất hiện nhiều nhất\r\n",
        "\r\n",
        "\r\n"
      ]
    },
    {
      "cell_type": "code",
      "metadata": {
        "id": "ql-H4JOp3UYJ"
      },
      "source": [
        "result['Ngày sinh'].fillna(result['Ngày sinh'].value_counts().idxmax(),inplace=True)"
      ],
      "execution_count": null,
      "outputs": []
    },
    {
      "cell_type": "markdown",
      "metadata": {
        "id": "zwHI-9S7awS_"
      },
      "source": [
        "2. Ta tiến hành thay các giá trị thiếu bằng giá trị có tần xuất, xuất hiện nhiều nhất vừa tìm được"
      ]
    },
    {
      "cell_type": "code",
      "metadata": {
        "colab": {
          "base_uri": "https://localhost:8080/"
        },
        "id": "9PFKrKQN8oeO",
        "outputId": "5075b284-8562-4429-d5e2-f64d76f54ac4"
      },
      "source": [
        "result.isnull().sum()"
      ],
      "execution_count": null,
      "outputs": [
        {
          "output_type": "execute_result",
          "data": {
            "text/plain": [
              "STT          0\n",
              "Mã SV        0\n",
              "Họ đệm       0\n",
              "Tên          0\n",
              "Giới tính    0\n",
              "Ngày sinh    0\n",
              "Điểm         0\n",
              "Điểm.1       0\n",
              "dtype: int64"
            ]
          },
          "metadata": {
            "tags": []
          },
          "execution_count": 17
        }
      ]
    },
    {
      "cell_type": "markdown",
      "metadata": {
        "id": "8DJPmoI8bCop"
      },
      "source": [
        "Tiến hành kiểm tra lại, ta thấy k còn cột nào bị thiếu dữ liệu"
      ]
    },
    {
      "cell_type": "code",
      "metadata": {
        "colab": {
          "base_uri": "https://localhost:8080/",
          "height": 296
        },
        "id": "gCx2ywKCIRmn",
        "outputId": "efbe6a0a-f3f4-4a91-d43d-ff27dda5462a"
      },
      "source": [
        "sns.histplot(x=result['Điểm'])"
      ],
      "execution_count": null,
      "outputs": [
        {
          "output_type": "execute_result",
          "data": {
            "text/plain": [
              "<matplotlib.axes._subplots.AxesSubplot at 0x7f535f059d68>"
            ]
          },
          "metadata": {
            "tags": []
          },
          "execution_count": 36
        },
        {
          "output_type": "display_data",
          "data": {
            "image/png": "[encoded data removed]",
            "text/plain": [
              "<Figure size 432x288 with 1 Axes>"
            ]
          },
          "metadata": {
            "tags": [],
            "needs_background": "light"
          }
        }
      ]
    },
    {
      "cell_type": "markdown",
      "metadata": {
        "id": "f5KpEpupbXWZ"
      },
      "source": [
        "Dùng hàm histplot để thể hiện sự tương quan của biến điểm, từ biểu đồ ta thấy được rằng:\r\n",
        "1.   Điểm 7 có số lần xuất hiện nhiều nhất, hơn 17 lần\r\n",
        "2.   Điểm 0 xuất hiện ít nhất, khoảng 1 lần\r\n",
        "3.   Đa số điểm tập trung nhiều ở điểm 5, 6 và 7\r\n",
        "\r\n"
      ]
    },
    {
      "cell_type": "code",
      "metadata": {
        "colab": {
          "base_uri": "https://localhost:8080/",
          "height": 296
        },
        "id": "jY3vIsOz_tQ1",
        "outputId": "a9dc3af6-ba84-4bf2-fb04-405c30c4a533"
      },
      "source": [
        "sns.boxplot(x=result['Điểm'], y=result['Giới tính'])"
      ],
      "execution_count": null,
      "outputs": [
        {
          "output_type": "execute_result",
          "data": {
            "text/plain": [
              "<matplotlib.axes._subplots.AxesSubplot at 0x7f535f759a90>"
            ]
          },
          "metadata": {
            "tags": []
          },
          "execution_count": 32
        },
        {
          "output_type": "display_data",
          "data": {
            "image/png": "[encoded data removed]",
            "text/plain": [
              "<Figure size 432x288 with 1 Axes>"
            ]
          },
          "metadata": {
            "tags": [],
            "needs_background": "light"
          }
        }
      ]
    },
    {
      "cell_type": "markdown",
      "metadata": {
        "id": "DqfUsKklcZMJ"
      },
      "source": [
        "Dùng hàm boxplot để thể hiện sự tương quan giữa Điểm và Giới tính, ta thấy:\r\n",
        "1.   Đa số dữ liệu đều là giới tính nữ, chỉ có 1 dữ liệu là giới tính nam\r\n",
        "2.   Điểm thấp nhất là 0, cao nhất là 7 điểm đều thuộc giới tính nữ\r\n",
        "3.   Đa số điểm tập trung ở điểm 4, 5, 6\r\n",
        "4.   Có giá trị trung bình khoảng 5,3 \r\n",
        "\r\n"
      ]
    }
  ]
}